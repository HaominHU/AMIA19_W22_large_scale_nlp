{
 "cells": [
  {
   "cell_type": "code",
   "execution_count": 58,
   "metadata": {},
   "outputs": [],
   "source": [
    "import sys\n",
    "from gensim.models import KeyedVectors\n",
    "from gensim.scripts.glove2word2vec import glove2word2vec\n",
    "from nltk.tokenize import TreebankWordTokenizer\n",
    "import pandas as pd\n",
    "import numpy as np\n",
    "from sklearn.svm import SVC\n",
    "from sklearn.linear_model import LogisticRegression\n",
    "from sklearn.neural_network import MLPClassifier\n",
    "from sklearn.ensemble import BaggingClassifier\n",
    "from sklearn.metrics import confusion_matrix, classification_report\n",
    "\n",
    "pd.set_option('display.max_colwidth', -1)\n",
    "pd.options.display.max_rows = 999\n",
    "np.set_printoptions(threshold=sys.maxsize)"
   ]
  },
  {
   "cell_type": "code",
   "execution_count": 59,
   "metadata": {},
   "outputs": [],
   "source": [
    "glove_input_file = '../models/w2v_glove_300.txt'\n",
    "word2vec_output_file = 'w2v.txt'\n",
    "glove2word2vec(glove_input_file, word2vec_output_file)\n",
    "model = KeyedVectors.load_word2vec_format(word2vec_output_file, binary=False)"
   ]
  },
  {
   "cell_type": "code",
   "execution_count": 60,
   "metadata": {},
   "outputs": [
    {
     "name": "stdout",
     "output_type": "stream",
     "text": [
      "[('heart', 0.4828336238861084), ('cardiac', 0.45815250277519226), ('debilitating', 0.4523412585258484), ('infarction', 0.4387247562408447), ('illness', 0.4336370527744293), ('complications', 0.43345579504966736)]\n"
     ]
    }
   ],
   "source": [
    "w1 =\"stroke\"\n",
    "print(model.most_similar(positive = w1, topn = 6))\n",
    "#model.most_similar_cosmul(positive=['hepatoma', 'brain'], negative=['liver'])"
   ]
  },
  {
   "cell_type": "code",
   "execution_count": 61,
   "metadata": {},
   "outputs": [
    {
     "name": "stdout",
     "output_type": "stream",
     "text": [
      "['i', 'me', 'my', 'myself', 'we', 'our', 'ours', 'ourselves', 'you', 'your', 'yours', 'yourself', 'yourselves', 'he', 'him', 'his', 'himself', 'she', 'her', 'hers', 'herself', 'it', 'its', 'itself', 'they', 'them', 'their', 'theirs', 'themselves', 'what', 'which', 'who', 'whom', 'this', 'that', 'these', 'those', 'am', 'is', 'are', 'was', 'were', 'be', 'been', 'being', 'have', 'has', 'had', 'having', 'do', 'does', 'did', 'doing', 'a', 'an', 'the', 'and', 'but', 'if', 'or', 'because', 'as', 'until', 'while', 'of', 'at', 'by', 'for', 'with', 'about', 'against', 'between', 'into', 'through', 'during', 'before', 'after', 'above', 'below', 'to', 'from', 'up', 'down', 'in', 'out', 'on', 'off', 'over', 'under', 'again', 'further', 'then', 'once', 'here', 'there', 'when', 'where', 'why', 'how', 'all', 'any', 'both', 'each', 'few', 'more', 'most', 'other', 'some', 'such', 'no', 'nor', 'not', 'only', 'own', 'same', 'so', 'than', 'too', 'very', 's', 't', 'can', 'will', 'just', 'don', 'should', 'now']\n"
     ]
    }
   ],
   "source": [
    "file = \"../data/stopwords.txt\"\n",
    "with open(file) as f:\n",
    "    stop_words = f.read().splitlines()\n",
    "\n",
    "print(stop_words)"
   ]
  },
  {
   "cell_type": "code",
   "execution_count": 62,
   "metadata": {},
   "outputs": [],
   "source": [
    "def sentence_vector(sentence):\n",
    "    word_list = TreebankWordTokenizer().tokenize(sentence)\n",
    "    word_list = [word for word in word_list if word not in stop_words]\n",
    "    word_vectors = []\n",
    "    for x in word_list:\n",
    "        try:\n",
    "            word_vectors.append(model[x])\n",
    "        except KeyError:\n",
    "            None    \n",
    "    return sum(word_vectors)/len(word_vectors)"
   ]
  },
  {
   "cell_type": "code",
   "execution_count": 64,
   "metadata": {},
   "outputs": [],
   "source": [
    "# load prepartitioned train/test sets\n",
    "test = pd.read_csv(\"../data/test.csv\")\n",
    "train = pd.read_csv(\"../data/AMIA_train_set.csv\")\n",
    "\n",
    "test['vec'] = [sentence_vector(x) for x in test.text]\n",
    "train['vec'] = [sentence_vector(x) for x in train.text]\n",
    "\n",
    "# load full data set\n",
    "frames = [test, train]\n",
    "df = pd.concat(frames)\n",
    "df.expansion.unique()\n",
    "\n",
    "train_grouped_abbr = train.groupby('abbrev')\n",
    "test_grouped_abbr = test.groupby('abbrev')"
   ]
  },
  {
   "cell_type": "code",
   "execution_count": 65,
   "metadata": {},
   "outputs": [],
   "source": [
    "X = list(df.vec)\n",
    "X = np.array(X)\n",
    "y = df.expansion\n",
    "\n",
    "X1 = list(train.vec)\n",
    "X_train = np.array(X1)\n",
    "y_train = train.expansion\n",
    "\n",
    "X2 = list(test.vec)\n",
    "X_test = np.array(X2)\n",
    "y_test = test.expansion"
   ]
  },
  {
   "cell_type": "code",
   "execution_count": 35,
   "metadata": {},
   "outputs": [],
   "source": [
    "# Define classifiers:\n",
    "svc = SVC(C=1.0, kernel='linear', degree=1)\n",
    "logistic = LogisticRegression()\n",
    "mlp = MLPClassifier(hidden_layer_sizes=(13,13,13),max_iter=500)"
   ]
  },
  {
   "cell_type": "code",
   "execution_count": 67,
   "metadata": {},
   "outputs": [
    {
     "name": "stderr",
     "output_type": "stream",
     "text": [
      "/anaconda3/lib/python3.7/site-packages/sklearn/neural_network/multilayer_perceptron.py:562: ConvergenceWarning: Stochastic Optimizer: Maximum iterations (500) reached and the optimization hasn't converged yet.\n",
      "  % self.max_iter, ConvergenceWarning)\n",
      "/anaconda3/lib/python3.7/site-packages/sklearn/metrics/classification.py:1143: UndefinedMetricWarning: Precision and F-score are ill-defined and being set to 0.0 in labels with no predicted samples.\n",
      "  'precision', 'predicted', average, warn_for)\n"
     ]
    },
    {
     "name": "stdout",
     "output_type": "stream",
     "text": [
      "\n",
      "########################################\n",
      "                    MS\n",
      "########################################\n",
      "                    precision    recall  f1-score   support\n",
      "\n",
      "     UNSURED SENSE       0.00      0.00      0.00         1\n",
      "  morphine sulfate       0.87      0.87      0.87        30\n",
      "multiple sclerosis       0.75      0.83      0.79        18\n",
      "   musculoskeletal       0.00      0.00      0.00         1\n",
      "\n",
      "         micro avg       0.82      0.82      0.82        50\n",
      "         macro avg       0.40      0.43      0.41        50\n",
      "      weighted avg       0.79      0.82      0.80        50\n",
      "\n",
      "\n",
      "examples (first 5 cases)\t\t\t\t\t\ttrue_abbr\t\t\tpred_abbr\n",
      "... ADMISSION MEDICATIONS: MS Contin as above, predniso ...\tmorphine sulfate                   \tmorphine sulfate\n",
      "... ing. The patient is on a MS Contin and Percocet. On ...\tmultiple sclerosis                 \tmultiple sclerosis\n",
      "... nd is remarkable for: 1. MS. 2. Hypertension. 3. Ast ...\tmorphine sulfate                   \tmorphine sulfate\n",
      "... nd tremor secondary from MS. The patient has euthymi ...\tmultiple sclerosis                 \tmultiple sclerosis\n",
      "... rednisone 5 mg a day. 7. MS Contin 60 mg t.i.d. 8.  ...\tmorphine sulfate                   \tmorphine sulfate\n",
      "... ASSESSMENT: 1. MS exacerbation. 2. Positi ...\tmorphine sulfate                   \tmorphine sulfate\n",
      "\n",
      "########################################\n",
      "                    MOM\n",
      "########################################\n",
      "                     precision    recall  f1-score   support\n",
      "\n",
      "   milk of magnesia       1.00      1.00      1.00         7\n",
      "multiples of median       1.00      1.00      1.00        43\n",
      "\n",
      "          micro avg       1.00      1.00      1.00        50\n",
      "          macro avg       1.00      1.00      1.00        50\n",
      "       weighted avg       1.00      1.00      1.00        50\n",
      "\n",
      "\n",
      "examples (first 5 cases)\t\t\t\t\t\ttrue_abbr\t\t\tpred_abbr\n",
      "... in normal limits at 0.97 MOM. This assay excludes app ...\tmilk of magnesia                   \tmilk of magnesia\n",
      "... yroxine 0.1 mg daily. f. MOM 30 cc h.s. prn. g. Amit ...\tmultiples of median                \tmultiples of median\n",
      "... CG= 0.77 MOM o DIA= 0.91 MOM * Adjusted risk for Dow ...\tmilk of magnesia                   \tmilk of magnesia\n",
      "... lace 100 mg p.o. b.i.d., MOM 30 cc p.o. t.i.d., Difl ...\tmultiples of median                \tmultiples of median\n",
      "... CG= 1.17 MOM o DIA= 1.32 MOM * Adjusted risk for Dow ...\tmultiples of median                \tmultiples of median\n",
      "... ternal serum AFP of 2.64 MOM, which increased her ris ...\tmultiples of median                \tmultiples of median\n",
      "\n",
      "########################################\n",
      "                    US\n",
      "########################################\n",
      "               precision    recall  f1-score   support\n",
      "\n",
      "United States       0.97      0.91      0.94        43\n",
      "   ultrasound       0.60      0.86      0.71         7\n",
      "\n",
      "    micro avg       0.90      0.90      0.90        50\n",
      "    macro avg       0.79      0.88      0.82        50\n",
      " weighted avg       0.92      0.90      0.91        50\n",
      "\n",
      "\n",
      "examples (first 5 cases)\t\t\t\t\t\ttrue_abbr\t\t\tpred_abbr\n",
      "... in an apartment in the US x12 years  speaks Ukraini ...\tUnited States                      \tUnited States\n",
      "... e. He is visiting in the U.S. and developed a spontan ...\tUnited States                      \tUnited States\n",
      "...  removed. A repeat renal US was performed just prio ...\tUnited States                      \tUnited States\n",
      "...  She presently works for US Bank. ALLERGIES: Penici ...\tUnited States                      \tUnited States\n",
      "... y illicit drugs. He is a U.S. bank trust administrato ...\tUnited States                      \tUnited States\n",
      "... ME#%_ 12 1/2. Banker for US Bank Corporation. Senio ...\tUnited States                      \tUnited States\n"
     ]
    },
    {
     "name": "stderr",
     "output_type": "stream",
     "text": [
      "/anaconda3/lib/python3.7/site-packages/sklearn/neural_network/multilayer_perceptron.py:562: ConvergenceWarning: Stochastic Optimizer: Maximum iterations (500) reached and the optimization hasn't converged yet.\n",
      "  % self.max_iter, ConvergenceWarning)\n",
      "/anaconda3/lib/python3.7/site-packages/sklearn/metrics/classification.py:1143: UndefinedMetricWarning: Precision and F-score are ill-defined and being set to 0.0 in labels with no predicted samples.\n",
      "  'precision', 'predicted', average, warn_for)\n"
     ]
    },
    {
     "name": "stdout",
     "output_type": "stream",
     "text": [
      "\n",
      "########################################\n",
      "                    MR\n",
      "########################################\n",
      "                          precision    recall  f1-score   support\n",
      "\n",
      "         GENERAL ENGLISH       0.00      0.00      0.00         1\n",
      "      magnetic resonance       0.90      0.93      0.91        28\n",
      "    mitral regurgitation       0.81      0.85      0.83        20\n",
      "myocardial infarction:MI       0.00      0.00      0.00         1\n",
      "\n",
      "               micro avg       0.86      0.86      0.86        50\n",
      "               macro avg       0.43      0.44      0.44        50\n",
      "            weighted avg       0.83      0.86      0.84        50\n",
      "\n",
      "\n",
      "examples (first 5 cases)\t\t\t\t\t\ttrue_abbr\t\t\tpred_abbr\n",
      "... ail and severe eccentric MR with pulmonary vein rev ...\tmitral regurgitation               \tmitral regurgitation\n",
      "... ill proceed Tuesday with MR cholangiogram to assess ...\tmitral regurgitation               \tmitral regurgitation\n",
      "... n both cerebellum areas. MR angiography revealed a  ...\tmitral regurgitation               \tmitral regurgitation\n",
      "... uld, however, suggest an MR angiogram of the renal  ...\tmagnetic resonance                 \tmagnetic resonance\n",
      "... tigated. She then had an MR angiogram, which showed ...\tmagnetic resonance                 \tmagnetic resonance\n",
      "... year-old white male with MR and morbid obesity, her ...\tmagnetic resonance                 \tmitral regurgitation\n"
     ]
    },
    {
     "name": "stderr",
     "output_type": "stream",
     "text": [
      "/anaconda3/lib/python3.7/site-packages/sklearn/neural_network/multilayer_perceptron.py:562: ConvergenceWarning: Stochastic Optimizer: Maximum iterations (500) reached and the optimization hasn't converged yet.\n",
      "  % self.max_iter, ConvergenceWarning)\n",
      "/anaconda3/lib/python3.7/site-packages/sklearn/metrics/classification.py:1145: UndefinedMetricWarning: Recall and F-score are ill-defined and being set to 0.0 in labels with no true samples.\n",
      "  'recall', 'true', average, warn_for)\n"
     ]
    },
    {
     "name": "stdout",
     "output_type": "stream",
     "text": [
      "\n",
      "########################################\n",
      "                    IT\n",
      "########################################\n",
      "                        precision    recall  f1-score   support\n",
      "\n",
      "       GENERAL ENGLISH       0.70      0.89      0.78        18\n",
      "         UNSURED SENSE       0.00      0.00      0.00         0\n",
      "            iliotibial       1.00      1.00      1.00         3\n",
      "information technology       0.85      0.73      0.79        15\n",
      "     intertrochanteric       1.00      0.50      0.67         2\n",
      "           intrathecal       0.86      0.67      0.75         9\n",
      "    ischial tuberosity       1.00      0.67      0.80         3\n",
      "\n",
      "             micro avg       0.78      0.78      0.78        50\n",
      "             macro avg       0.77      0.64      0.68        50\n",
      "          weighted avg       0.82      0.78      0.79        50\n",
      "\n",
      "\n",
      "examples (first 5 cases)\t\t\t\t\t\ttrue_abbr\t\t\tpred_abbr\n",
      "... : ASPIRIN AND IBUPROFEN; IT DOES NOT HAVE ANY ALLER ...\tintrathecal                        \tintrathecal\n",
      "... employed as a manager in IT Company. FAMILY HISTORY ...\tiliotibial                         \tiliotibial\n",
      "...  University of Minnesota IT Program. Prior to this  ...\tGENERAL ENGLISH                    \tGENERAL ENGLISH\n",
      "... n. ALLERGIES: CODEINE AS IT CAUSES GI UPSET. REVIEW ...\tintrathecal                        \tintrathecal\n",
      "... ENT/PLAN: 1. Status post IT band release. Plan per  ...\tinformation technology             \tinformation technology\n",
      "...  and works in healthcare IT. She is married and has  ...\tGENERAL ENGLISH                    \tGENERAL ENGLISH\n",
      "\n",
      "########################################\n",
      "                    OR\n",
      "########################################\n",
      "                 precision    recall  f1-score   support\n",
      "\n",
      "GENERAL ENGLISH       0.50      0.50      0.50         2\n",
      " operating room       0.98      0.98      0.98        48\n",
      "\n",
      "      micro avg       0.96      0.96      0.96        50\n",
      "      macro avg       0.74      0.74      0.74        50\n",
      "   weighted avg       0.96      0.96      0.96        50\n",
      "\n",
      "\n",
      "examples (first 5 cases)\t\t\t\t\t\ttrue_abbr\t\t\tpred_abbr\n",
      "... and culture taken in the OR showed gram positive or ...\toperating room                     \toperating room\n",
      "...  tube was changed in the OR on _%#MM#%_ _%#DD#%_, 2 ...\toperating room                     \toperating room\n",
      "...  and he was taken to the OR for extraction of teeth ...\toperating room                     \toperating room\n",
      "... . On the way back to the OR, the patient coded for s ...\toperating room                     \toperating room\n",
      "... o is just now out of the OR after a mitral valve re ...\toperating room                     \toperating room\n",
      "... #%_, he was taken to the OR for a definitive treatm ...\toperating room                     \toperating room\n",
      "\n",
      "########################################\n",
      "                    FISH\n",
      "########################################\n",
      "                                   precision    recall  f1-score   support\n",
      "\n",
      "                  GENERAL ENGLISH       0.75      0.60      0.67         5\n",
      "fluorescent in situ hybridization       0.96      0.98      0.97        45\n",
      "\n",
      "                        micro avg       0.94      0.94      0.94        50\n",
      "                        macro avg       0.85      0.79      0.82        50\n",
      "                     weighted avg       0.94      0.94      0.94        50\n",
      "\n",
      "\n",
      "examples (first 5 cases)\t\t\t\t\t\ttrue_abbr\t\t\tpred_abbr\n",
      "...  normal. The patient has FISH for DiGeorge, and chrom ...\tfluorescent in situ hybridization  \tfluorescent in situ hybridization\n",
      "... Preliminary results from FISH analysis from Fairview- ...\tfluorescent in situ hybridization  \tfluorescent in situ hybridization\n",
      "... nd HER-2/neu positive by FISH. REVIEW OF SYSTEMS: GENE ...\tfluorescent in situ hybridization  \tfluorescent in situ hybridization\n",
      "... he preliminary nature of FISH results. I explained th ...\tfluorescent in situ hybridization  \tfluorescent in situ hybridization\n",
      "...  _%#NAME#%_. Preliminary FISH results are normal. Fin ...\tGENERAL ENGLISH                    \tGENERAL ENGLISH\n",
      "...  a 1517 translocation by FISH study. She was seen by  ...\tfluorescent in situ hybridization  \tfluorescent in situ hybridization\n"
     ]
    }
   ],
   "source": [
    "# Loop through different abbreviations.\n",
    "clf_type = 'mlp'\n",
    "for abbr in train.abbrev.unique():\n",
    "\n",
    "    train_abbr = train_grouped_abbr.get_group(abbr)\n",
    "    test_abbr = test_grouped_abbr.get_group(abbr)\n",
    "\n",
    "    X_train = np.array(list(train_abbr.vec))\n",
    "    y_train = train_abbr.expansion\n",
    "\n",
    "    X_test = np.array(list(test_abbr.vec))\n",
    "    y_test = test_abbr.expansion\n",
    "\n",
    "    if clf_type == 'svm':\n",
    "        # set up SVM\n",
    "        clf = SVC(C=1.0, kernel='linear', degree=1, probability=True).fit(X_train, y_train)\n",
    "\n",
    "    elif clf_type == 'logistic':\n",
    "        clf = LogisticRegression().fit(X_train, y_train)\n",
    "        \n",
    "    elif clf_type == 'mlp':\n",
    "        clf = MLPClassifier(hidden_layer_sizes=(13,13,13),max_iter=500).fit(X_train, y_train)\n",
    "        \n",
    "    pred = clf.predict(X_test)\n",
    "    cm = confusion_matrix(y_test, pred, labels=list(set(df.expansion)))\n",
    "    print()\n",
    "    print(\"##\" * 20)\n",
    "    print(\" \" * 20 + abbr)\n",
    "    print(\"##\" * 20)\n",
    "\n",
    "    print(classification_report(y_test, pred))\n",
    "    print()\n",
    "    print(f'examples (first 5 cases)\\t\\t\\t\\t\\t\\ttrue_abbr\\t\\t\\tpred_abbr')\n",
    "\n",
    "    # Print first 5 cases\n",
    "    i = 0\n",
    "    for input_row, true_abbr, pred_abbr in zip(train_abbr.iterrows(), y_test, pred):\n",
    "\n",
    "        sn_start = max(input_row[1].start - 25, 0)\n",
    "        sn_end = min(input_row[1].end + 25, len(input_row[1].text))\n",
    "\n",
    "        example_text = input_row[1].text[sn_start: sn_end]\n",
    "        print(f'... {example_text} ...\\t{true_abbr:<35}\\t{pred_abbr}')\n",
    "\n",
    "        if i == 5:\n",
    "            break\n",
    "\n",
    "        i += 1"
   ]
  },
  {
   "cell_type": "code",
   "execution_count": 57,
   "metadata": {},
   "outputs": [
    {
     "name": "stderr",
     "output_type": "stream",
     "text": [
      "/anaconda3/lib/python3.7/site-packages/sklearn/model_selection/_split.py:652: Warning: The least populated class in y has only 1 members, which is too few. The minimum number of members in any class cannot be less than n_splits=3.\n",
      "  % (min_groups, self.n_splits)), Warning)\n",
      "/anaconda3/lib/python3.7/site-packages/sklearn/model_selection/_split.py:652: Warning: The least populated class in y has only 1 members, which is too few. The minimum number of members in any class cannot be less than n_splits=3.\n",
      "  % (min_groups, self.n_splits)), Warning)\n"
     ]
    },
    {
     "name": "stdout",
     "output_type": "stream",
     "text": [
      "Mean of: 0.043, std: (+/-) 0.018 [Bagging SVC]\n",
      "\n",
      "Mean of: 0.040, std: (+/-) 0.014 [Bagging SVC]\n",
      "\n"
     ]
    },
    {
     "name": "stderr",
     "output_type": "stream",
     "text": [
      "/anaconda3/lib/python3.7/site-packages/sklearn/model_selection/_split.py:652: Warning: The least populated class in y has only 1 members, which is too few. The minimum number of members in any class cannot be less than n_splits=3.\n",
      "  % (min_groups, self.n_splits)), Warning)\n"
     ]
    },
    {
     "name": "stdout",
     "output_type": "stream",
     "text": [
      "Mean of: 0.033, std: (+/-) 0.021 [Bagging SVC]\n",
      "\n"
     ]
    },
    {
     "name": "stderr",
     "output_type": "stream",
     "text": [
      "/anaconda3/lib/python3.7/site-packages/sklearn/model_selection/_split.py:652: Warning: The least populated class in y has only 1 members, which is too few. The minimum number of members in any class cannot be less than n_splits=3.\n",
      "  % (min_groups, self.n_splits)), Warning)\n"
     ]
    },
    {
     "name": "stdout",
     "output_type": "stream",
     "text": [
      "Mean of: 0.030, std: (+/-) 0.019 [Bagging SVC]\n",
      "\n"
     ]
    },
    {
     "name": "stderr",
     "output_type": "stream",
     "text": [
      "/anaconda3/lib/python3.7/site-packages/sklearn/model_selection/_split.py:652: Warning: The least populated class in y has only 1 members, which is too few. The minimum number of members in any class cannot be less than n_splits=3.\n",
      "  % (min_groups, self.n_splits)), Warning)\n"
     ]
    },
    {
     "name": "stdout",
     "output_type": "stream",
     "text": [
      "Mean of: 0.017, std: (+/-) 0.008 [Bagging SVC]\n",
      "\n"
     ]
    },
    {
     "name": "stderr",
     "output_type": "stream",
     "text": [
      "/anaconda3/lib/python3.7/site-packages/sklearn/model_selection/_split.py:652: Warning: The least populated class in y has only 1 members, which is too few. The minimum number of members in any class cannot be less than n_splits=3.\n",
      "  % (min_groups, self.n_splits)), Warning)\n"
     ]
    },
    {
     "name": "stdout",
     "output_type": "stream",
     "text": [
      "Mean of: 0.017, std: (+/-) 0.009 [Bagging SVC]\n",
      "\n"
     ]
    },
    {
     "name": "stderr",
     "output_type": "stream",
     "text": [
      "/anaconda3/lib/python3.7/site-packages/sklearn/model_selection/_split.py:652: Warning: The least populated class in y has only 1 members, which is too few. The minimum number of members in any class cannot be less than n_splits=3.\n",
      "  % (min_groups, self.n_splits)), Warning)\n"
     ]
    },
    {
     "name": "stdout",
     "output_type": "stream",
     "text": [
      "Mean of: 0.022, std: (+/-) 0.020 [Bagging SVC]\n",
      "\n"
     ]
    },
    {
     "name": "stderr",
     "output_type": "stream",
     "text": [
      "/anaconda3/lib/python3.7/site-packages/sklearn/model_selection/_split.py:652: Warning: The least populated class in y has only 1 members, which is too few. The minimum number of members in any class cannot be less than n_splits=3.\n",
      "  % (min_groups, self.n_splits)), Warning)\n"
     ]
    },
    {
     "name": "stdout",
     "output_type": "stream",
     "text": [
      "Mean of: 0.034, std: (+/-) 0.021 [Bagging SVC]\n",
      "\n"
     ]
    },
    {
     "name": "stderr",
     "output_type": "stream",
     "text": [
      "/anaconda3/lib/python3.7/site-packages/sklearn/model_selection/_split.py:652: Warning: The least populated class in y has only 1 members, which is too few. The minimum number of members in any class cannot be less than n_splits=3.\n",
      "  % (min_groups, self.n_splits)), Warning)\n"
     ]
    },
    {
     "name": "stdout",
     "output_type": "stream",
     "text": [
      "Mean of: 0.032, std: (+/-) 0.023 [Bagging SVC]\n",
      "\n"
     ]
    },
    {
     "name": "stderr",
     "output_type": "stream",
     "text": [
      "/anaconda3/lib/python3.7/site-packages/sklearn/model_selection/_split.py:652: Warning: The least populated class in y has only 1 members, which is too few. The minimum number of members in any class cannot be less than n_splits=3.\n",
      "  % (min_groups, self.n_splits)), Warning)\n"
     ]
    },
    {
     "name": "stdout",
     "output_type": "stream",
     "text": [
      "Mean of: 0.058, std: (+/-) 0.055 [Bagging SVC]\n",
      "\n"
     ]
    },
    {
     "name": "stderr",
     "output_type": "stream",
     "text": [
      "/anaconda3/lib/python3.7/site-packages/sklearn/model_selection/_split.py:652: Warning: The least populated class in y has only 1 members, which is too few. The minimum number of members in any class cannot be less than n_splits=3.\n",
      "  % (min_groups, self.n_splits)), Warning)\n"
     ]
    },
    {
     "name": "stdout",
     "output_type": "stream",
     "text": [
      "Mean of: 0.691, std: (+/-) 0.010 [Vanilla SVC]\n",
      "\n"
     ]
    }
   ],
   "source": [
    "# bagging test\n",
    "seed = 1075\n",
    "np.random.seed(seed)\n",
    "svc = SVC(C=1.0, kernel='linear', degree=1)\n",
    "for i in range(1, 11):\n",
    "\n",
    "    bagging_clf = BaggingClassifier(svc, max_samples=i*(0.1), max_features=10, random_state=seed)\n",
    "    bagging_scores = cross_val_score(bagging_clf, X, y, cv=7, n_jobs=-1)\n",
    "    #print(bagging_scores)\n",
    "    print(\"Mean of: {1:.3f}, std: (+/-) {2:.3f} [Bagging {0}]\\n\".format(svc.__class__.__name__, \n",
    "                        bagging_scores.mean(), bagging_scores.std()))\n",
    "    \n",
    "vanilla_scores = cross_val_score(svc, X, y, cv=7, n_jobs=-1)\n",
    "\n",
    "print(\"Mean of: {1:.3f}, std: (+/-) {2:.3f} [Vanilla {0}]\\n\".format(svc.__class__.__name__, \n",
    "                        vanilla_scores.mean(), vanilla_scores.std()))\n"
   ]
  },
  {
   "cell_type": "code",
   "execution_count": 33,
   "metadata": {},
   "outputs": [
    {
     "name": "stdout",
     "output_type": "stream",
     "text": [
      "accuracy: [0.69942197 0.68712871 0.687251   0.68336673 0.70445344 0.70325203\n",
      " 0.71574642]\n",
      "\n",
      "\n",
      "\n",
      "0.6411983035331859\n"
     ]
    }
   ],
   "source": [
    "print('accuracy: {}'.format(cross_val_scores))\n",
    "print()\n",
    "#print(set(df.expansion))\n",
    "#print([len(df[df.expansion == x]) for x in set(df.expansion)])\n",
    "print()\n",
    "#print(cm)\n",
    "print()\n",
    "print(f1_score(y_test,pred,average = 'weighted'))"
   ]
  },
  {
   "cell_type": "code",
   "execution_count": null,
   "metadata": {},
   "outputs": [],
   "source": [
    "sentence = 'Patient was tested for US, cystic fibrosis and other heritable diseases '\n",
    "\n",
    "sentence = \"Procedure went without complications, and the patient was sent to the \\\n",
    "floor postoperatively after he was extubated in the FISH. Thoracic surgery was consulted \\\n",
    "on the day of surgery. Gastrografin upper GI study performed on admission showed no leak. \\\n",
    "However, the patient was admitted under the care of thoracic surgery team, and he was kept \\\n",
    "n.p.o. and followed up on daily basis for any change in vital signs, chest pain for another \\\n",
    "upper GI swallow study which was done 7 days after his symptoms started. \"\n",
    "\n",
    "\n",
    "sentence = ['she had an US to determine if the baby was good', 'he had an US to determine if there was a mass', 'If the patient continues to require blood transfusions an/or if he becomes hemodynamically unstable he will need to be taken to the OR for cystoscopy with clot evacuation. Since his surgery was so recently performed we would rather try to hold off on this, however, as not to disrupt the anastomosis with his new transplanted kidney.']\n",
    "\n",
    "for s in sentence:\n",
    "    print('sentence:', s)\n",
    "    #print(vector_breakage(sentence))\n",
    "    print('prediction:', clf.predict(sentence_vector(s).reshape(1, -1)))\n",
    "    print()"
   ]
  },
  {
   "cell_type": "markdown",
   "metadata": {},
   "source": [
    "## Try"
   ]
  },
  {
   "cell_type": "code",
   "execution_count": null,
   "metadata": {},
   "outputs": [],
   "source": [
    "try_out = ''\n",
    "print(vector_breakage(try_out))\n",
    "print(clf.predict(sentence_vector(try_out).reshape(1, -1)))"
   ]
  },
  {
   "cell_type": "code",
   "execution_count": null,
   "metadata": {},
   "outputs": [],
   "source": []
  }
 ],
 "metadata": {
  "kernelspec": {
   "display_name": "Python 3",
   "language": "python",
   "name": "python3"
  },
  "language_info": {
   "codemirror_mode": {
    "name": "ipython",
    "version": 3
   },
   "file_extension": ".py",
   "mimetype": "text/x-python",
   "name": "python",
   "nbconvert_exporter": "python",
   "pygments_lexer": "ipython3",
   "version": "3.7.3"
  }
 },
 "nbformat": 4,
 "nbformat_minor": 2
}
